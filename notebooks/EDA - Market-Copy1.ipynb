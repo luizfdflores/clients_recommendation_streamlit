{
 "cells": [
  {
   "cell_type": "code",
   "execution_count": 147,
   "metadata": {},
   "outputs": [],
   "source": [
    "import pandas as pd\n",
    "import numpy as np\n",
    "import dataprep.eda as dp"
   ]
  },
  {
   "cell_type": "code",
   "execution_count": 2,
   "metadata": {},
   "outputs": [],
   "source": [
    "file_market = 'estaticos_market.csv'\n",
    "file_portfolio1 = 'estaticos_portfolio1.csv'\n",
    "file_portfolio2 = 'estaticos_portfolio2.csv'\n",
    "file_portfolio3 = 'estaticos_portfolio3.csv'"
   ]
  },
  {
   "cell_type": "code",
   "execution_count": 162,
   "metadata": {},
   "outputs": [],
   "source": [
    "pd.set_option('display.max_rows', 500)\n",
    "pd.set_option('display.max_columns', 500)"
   ]
  },
  {
   "cell_type": "code",
   "execution_count": 163,
   "metadata": {},
   "outputs": [],
   "source": [
    "def get_new_portfolio(df, nrows=500):\n",
    "    if nrows > df_market.shape[0]:\n",
    "        return None\n",
    "    return pd.DataFrame(np.random.choice(df['id'].values, nrows), columns=['id'])"
   ]
  },
  {
   "cell_type": "code",
   "execution_count": 167,
   "metadata": {},
   "outputs": [],
   "source": [
    "df_market = pd.read_csv(file_market, index_col=0)"
   ]
  },
  {
   "cell_type": "code",
   "execution_count": 168,
   "metadata": {},
   "outputs": [
    {
     "data": {
      "text/plain": [
       "id                                                    0\n",
       "fl_matriz                                             0\n",
       "de_natureza_juridica                                  0\n",
       "sg_uf                                                 0\n",
       "natureza_juridica_macro                               0\n",
       "de_ramo                                               0\n",
       "setor                                              1927\n",
       "idade_empresa_anos                                    0\n",
       "idade_emp_cat                                         0\n",
       "fl_me                                                 0\n",
       "fl_sa                                                 0\n",
       "fl_epp                                                0\n",
       "fl_mei                                                0\n",
       "fl_ltda                                               0\n",
       "dt_situacao                                           6\n",
       "fl_st_especial                                        0\n",
       "fl_email                                              0\n",
       "fl_telefone                                           0\n",
       "fl_rm                                                 0\n",
       "nm_divisao                                         1927\n",
       "nm_segmento                                        1927\n",
       "fl_spa                                             1927\n",
       "fl_antt                                            1927\n",
       "fl_veiculo                                         1927\n",
       "vl_total_tancagem                                462018\n",
       "vl_total_veiculos_antt                           462122\n",
       "vl_total_veiculos_leves                          431614\n",
       "vl_total_veiculos_pesados                        431614\n",
       "fl_optante_simples                                82713\n",
       "qt_art                                           455708\n",
       "vl_total_veiculos_pesados_grupo                    1927\n",
       "vl_total_veiculos_leves_grupo                      1927\n",
       "vl_total_tancagem_grupo                          460538\n",
       "vl_total_veiculos_antt_grupo                     461962\n",
       "vl_potenc_cons_oleo_gas                          458615\n",
       "fl_optante_simei                                  82713\n",
       "sg_uf_matriz                                       1939\n",
       "de_saude_tributaria                               14851\n",
       "de_saude_rescencia                                14851\n",
       "nu_meses_rescencia                                45276\n",
       "de_nivel_atividade                                11168\n",
       "de_indicador_telefone                            418405\n",
       "fl_simples_irregular                               1927\n",
       "vl_frota                                         438108\n",
       "empsetorcensitariofaixarendapopulacao            143829\n",
       "nm_meso_regiao                                    58698\n",
       "nm_micro_regiao                                   58698\n",
       "fl_passivel_iss                                    1927\n",
       "qt_socios                                        115091\n",
       "qt_socios_pf                                     115091\n",
       "qt_socios_pj                                     115091\n",
       "idade_media_socios                               151602\n",
       "idade_maxima_socios                              151602\n",
       "idade_minima_socios                              151602\n",
       "qt_socios_st_regular                             154917\n",
       "qt_socios_st_suspensa                            459047\n",
       "qt_socios_masculino                              267183\n",
       "qt_socios_feminino                               317269\n",
       "qt_socios_pep                                    455555\n",
       "qt_alteracao_socio_total                         462298\n",
       "qt_alteracao_socio_90d                           462298\n",
       "qt_alteracao_socio_180d                          462298\n",
       "qt_alteracao_socio_365d                          462298\n",
       "qt_socios_pj_ativos                              457754\n",
       "qt_socios_pj_nulos                               457754\n",
       "qt_socios_pj_baixados                            457754\n",
       "qt_socios_pj_suspensos                           457754\n",
       "qt_socios_pj_inaptos                             457754\n",
       "vl_idade_media_socios_pj                         457754\n",
       "vl_idade_maxima_socios_pj                        457754\n",
       "vl_idade_minima_socios_pj                        457754\n",
       "qt_coligados                                     396907\n",
       "qt_socios_coligados                              396907\n",
       "qt_coligados_matriz                              396907\n",
       "qt_coligados_ativo                               396907\n",
       "qt_coligados_baixada                             396907\n",
       "qt_coligados_inapta                              396907\n",
       "qt_coligados_suspensa                            396907\n",
       "qt_coligados_nula                                396907\n",
       "idade_media_coligadas                            396907\n",
       "idade_maxima_coligadas                           396907\n",
       "idade_minima_coligadas                           396907\n",
       "coligada_mais_nova_ativa                         397151\n",
       "coligada_mais_antiga_ativa                       397151\n",
       "idade_media_coligadas_ativas                     397151\n",
       "coligada_mais_nova_baixada                       462162\n",
       "coligada_mais_antiga_baixada                     462162\n",
       "idade_media_coligadas_baixadas                   462162\n",
       "qt_coligados_sa                                  396907\n",
       "qt_coligados_me                                  396907\n",
       "qt_coligados_mei                                 396907\n",
       "qt_coligados_ltda                                396907\n",
       "qt_coligados_epp                                 396907\n",
       "qt_coligados_norte                               396907\n",
       "qt_coligados_sul                                 396907\n",
       "qt_coligados_nordeste                            396907\n",
       "qt_coligados_centro                              396907\n",
       "qt_coligados_sudeste                             396907\n",
       "qt_coligados_exterior                            396907\n",
       "qt_ufs_coligados                                 396907\n",
       "qt_regioes_coligados                             396907\n",
       "qt_ramos_coligados                               396907\n",
       "qt_coligados_industria                           396907\n",
       "qt_coligados_agropecuaria                        396907\n",
       "qt_coligados_comercio                            396907\n",
       "qt_coligados_serviço                             396907\n",
       "qt_coligados_ccivil                              396907\n",
       "qt_funcionarios_coligados                        419995\n",
       "qt_funcionarios_coligados_gp                     419995\n",
       "media_funcionarios_coligados_gp                  419995\n",
       "max_funcionarios_coligados_gp                    419995\n",
       "min_funcionarios_coligados_gp                    419995\n",
       "vl_folha_coligados                               425984\n",
       "media_vl_folha_coligados                         425984\n",
       "max_vl_folha_coligados                           425984\n",
       "min_vl_folha_coligados                           425984\n",
       "vl_folha_coligados_gp                            425761\n",
       "media_vl_folha_coligados_gp                      425761\n",
       "max_vl_folha_coligados_gp                        425761\n",
       "min_vl_folha_coligados_gp                        425761\n",
       "faturamento_est_coligados                        397775\n",
       "media_faturamento_est_coligados                  397775\n",
       "max_faturamento_est_coligados                    397775\n",
       "min_faturamento_est_coligados                    397775\n",
       "faturamento_est_coligados_gp                     397775\n",
       "media_faturamento_est_coligados_gp               397775\n",
       "max_faturamento_est_coligados_gp                 397775\n",
       "min_faturamento_est_coligados_gp                 397775\n",
       "total_filiais_coligados                          441898\n",
       "media_filiais_coligados                          441898\n",
       "max_filiais_coligados                            441898\n",
       "min_filiais_coligados                            441898\n",
       "qt_coligados_atividade_alto                      396907\n",
       "qt_coligados_atividade_medio                     396907\n",
       "qt_coligados_atividade_baixo                     396907\n",
       "qt_coligados_atividade_mt_baixo                  396907\n",
       "qt_coligados_atividade_inativo                   396907\n",
       "qt_coligadas                                     412067\n",
       "sum_faturamento_estimado_coligadas               412754\n",
       "de_faixa_faturamento_estimado                     27513\n",
       "de_faixa_faturamento_estimado_grupo               27513\n",
       "vl_faturamento_estimado_aux                       27513\n",
       "vl_faturamento_estimado_grupo_aux                 27513\n",
       "qt_ex_funcionarios                               347044\n",
       "qt_funcionarios_grupo                            347035\n",
       "percent_func_genero_masc                         386356\n",
       "percent_func_genero_fem                          386356\n",
       "idade_ate_18                                     459392\n",
       "idade_de_19_a_23                                 436408\n",
       "idade_de_24_a_28                                 423403\n",
       "idade_de_29_a_33                                 422155\n",
       "idade_de_34_a_38                                 425569\n",
       "idade_de_39_a_43                                 431890\n",
       "idade_de_44_a_48                                 438008\n",
       "idade_de_49_a_53                                 443261\n",
       "idade_de_54_a_58                                 448323\n",
       "idade_acima_de_58                                451272\n",
       "grau_instrucao_macro_analfabeto                  460414\n",
       "grau_instrucao_macro_escolaridade_fundamental    437402\n",
       "grau_instrucao_macro_escolaridade_media          394501\n",
       "grau_instrucao_macro_escolaridade_superior       439571\n",
       "grau_instrucao_macro_desconhecido                462298\n",
       "total                                            386356\n",
       "meses_ultima_contratacaco                        358724\n",
       "qt_admitidos_12meses                             358724\n",
       "qt_desligados_12meses                            358724\n",
       "qt_desligados                                    358724\n",
       "qt_admitidos                                     358724\n",
       "media_meses_servicos_all                         358738\n",
       "max_meses_servicos_all                           358738\n",
       "min_meses_servicos_all                           358738\n",
       "media_meses_servicos                             386037\n",
       "max_meses_servicos                               386037\n",
       "min_meses_servicos                               386037\n",
       "qt_funcionarios                                  358724\n",
       "qt_funcionarios_12meses                          358724\n",
       "qt_funcionarios_24meses                          358724\n",
       "tx_crescimento_12meses                           388410\n",
       "tx_crescimento_24meses                           388284\n",
       "tx_rotatividade                                  358724\n",
       "qt_filiais                                            0\n",
       "dtype: int64"
      ]
     },
     "execution_count": 168,
     "metadata": {},
     "output_type": "execute_result"
    }
   ],
   "source": [
    "df_market.isna().sum()"
   ]
  },
  {
   "cell_type": "code",
   "execution_count": 165,
   "metadata": {},
   "outputs": [],
   "source": [
    "thresh = len(df_market) * .5\n",
    "df_market.dropna(thresh = thresh, axis = 1, inplace = True)"
   ]
  },
  {
   "cell_type": "code",
   "execution_count": 38,
   "metadata": {},
   "outputs": [],
   "source": [
    "dtypes = {'id':'string',\n",
    " 'de_natureza_juridica':'category',\n",
    " 'sg_uf':'category',\n",
    " 'natureza_juridica_macro':'category',\n",
    " 'de_ramo':'category',\n",
    " 'setor':'category',\n",
    " 'idade_emp_cat':'category',\n",
    " 'nm_divisao':'category',\n",
    " 'nm_segmento':'category',\n",
    " 'fl_spa':'category',\n",
    " 'fl_antt':'category',\n",
    " 'fl_veiculo':'category',\n",
    " 'fl_optante_simples':'category',\n",
    " 'fl_optante_simei':'category',\n",
    " 'sg_uf_matriz':'category',\n",
    " 'de_saude_tributaria':'category',\n",
    " 'de_saude_rescencia':'category',\n",
    " 'de_nivel_atividade':'category',\n",
    " 'de_indicador_telefone':'category',\n",
    " 'fl_simples_irregular':'category',\n",
    " 'nm_meso_regiao':'category',\n",
    " 'nm_micro_regiao':'category',\n",
    " 'fl_passivel_iss':'category',\n",
    " 'de_faixa_faturamento_estimado':'category',\n",
    " 'de_faixa_faturamento_estimado_grupo':'category'}"
   ]
  },
  {
   "cell_type": "code",
   "execution_count": 111,
   "metadata": {},
   "outputs": [],
   "source": [
    "df_market['dt_situacao'] = pd.to_datetime(df_market['dt_situacao'])\n",
    "df_market['fl_rm'] = df_market['fl_rm'].replace(to_replace='SIM', value=True).replace(to_replace='NAO', value=False).astype('bool')"
   ]
  },
  {
   "cell_type": "code",
   "execution_count": 161,
   "metadata": {},
   "outputs": [
    {
     "ename": "KeyError",
     "evalue": "\"None of [Index([('idade_empresa_anos', 'vl_total_veiculos_pesados_grupo', 'vl_total_veiculos_leves_grupo', 'nu_meses_rescencia', 'empsetorcensitariofaixarendapopulacao', 'qt_socios', 'qt_socios_pf', 'qt_socios_pj', 'idade_media_socios', 'idade_maxima_socios', 'idade_minima_socios', 'qt_socios_st_regular', 'vl_faturamento_estimado_aux', 'vl_faturamento_estimado_grupo_aux')], dtype='object')] are in the [columns]\"",
     "output_type": "error",
     "traceback": [
      "\u001b[1;31m---------------------------------------------------------------------------\u001b[0m",
      "\u001b[1;31mKeyError\u001b[0m                                  Traceback (most recent call last)",
      "\u001b[1;32m<ipython-input-161-aadd44ec542b>\u001b[0m in \u001b[0;36m<module>\u001b[1;34m\u001b[0m\n\u001b[1;32m----> 1\u001b[1;33m \u001b[0mdf_market\u001b[0m\u001b[1;33m[\u001b[0m\u001b[1;33m[\u001b[0m\u001b[0mdf_market\u001b[0m\u001b[1;33m.\u001b[0m\u001b[0mloc\u001b[0m\u001b[1;33m[\u001b[0m\u001b[1;33m:\u001b[0m\u001b[1;33m,\u001b[0m\u001b[0mdf\u001b[0m\u001b[1;33m.\u001b[0m\u001b[0mdtypes\u001b[0m \u001b[1;33m==\u001b[0m \u001b[1;34m'float64'\u001b[0m\u001b[1;33m]\u001b[0m\u001b[1;33m.\u001b[0m\u001b[0mcolumns\u001b[0m\u001b[1;33m]\u001b[0m\u001b[1;33m]\u001b[0m\u001b[1;33m.\u001b[0m\u001b[0mastype\u001b[0m\u001b[1;33m(\u001b[0m\u001b[1;34m'float8'\u001b[0m\u001b[1;33m)\u001b[0m\u001b[1;33m\u001b[0m\u001b[1;33m\u001b[0m\u001b[0m\n\u001b[0m",
      "\u001b[1;32mc:\\users\\luiz\\anaconda3\\envs\\ds_projeto_final\\lib\\site-packages\\pandas\\core\\frame.py\u001b[0m in \u001b[0;36m__getitem__\u001b[1;34m(self, key)\u001b[0m\n\u001b[0;32m   2804\u001b[0m             \u001b[1;32mif\u001b[0m \u001b[0mis_iterator\u001b[0m\u001b[1;33m(\u001b[0m\u001b[0mkey\u001b[0m\u001b[1;33m)\u001b[0m\u001b[1;33m:\u001b[0m\u001b[1;33m\u001b[0m\u001b[1;33m\u001b[0m\u001b[0m\n\u001b[0;32m   2805\u001b[0m                 \u001b[0mkey\u001b[0m \u001b[1;33m=\u001b[0m \u001b[0mlist\u001b[0m\u001b[1;33m(\u001b[0m\u001b[0mkey\u001b[0m\u001b[1;33m)\u001b[0m\u001b[1;33m\u001b[0m\u001b[1;33m\u001b[0m\u001b[0m\n\u001b[1;32m-> 2806\u001b[1;33m             \u001b[0mindexer\u001b[0m \u001b[1;33m=\u001b[0m \u001b[0mself\u001b[0m\u001b[1;33m.\u001b[0m\u001b[0mloc\u001b[0m\u001b[1;33m.\u001b[0m\u001b[0m_get_listlike_indexer\u001b[0m\u001b[1;33m(\u001b[0m\u001b[0mkey\u001b[0m\u001b[1;33m,\u001b[0m \u001b[0maxis\u001b[0m\u001b[1;33m=\u001b[0m\u001b[1;36m1\u001b[0m\u001b[1;33m,\u001b[0m \u001b[0mraise_missing\u001b[0m\u001b[1;33m=\u001b[0m\u001b[1;32mTrue\u001b[0m\u001b[1;33m)\u001b[0m\u001b[1;33m[\u001b[0m\u001b[1;36m1\u001b[0m\u001b[1;33m]\u001b[0m\u001b[1;33m\u001b[0m\u001b[1;33m\u001b[0m\u001b[0m\n\u001b[0m\u001b[0;32m   2807\u001b[0m \u001b[1;33m\u001b[0m\u001b[0m\n\u001b[0;32m   2808\u001b[0m         \u001b[1;31m# take() does not accept boolean indexers\u001b[0m\u001b[1;33m\u001b[0m\u001b[1;33m\u001b[0m\u001b[1;33m\u001b[0m\u001b[0m\n",
      "\u001b[1;32mc:\\users\\luiz\\anaconda3\\envs\\ds_projeto_final\\lib\\site-packages\\pandas\\core\\indexing.py\u001b[0m in \u001b[0;36m_get_listlike_indexer\u001b[1;34m(self, key, axis, raise_missing)\u001b[0m\n\u001b[0;32m   1550\u001b[0m             \u001b[0mkeyarr\u001b[0m\u001b[1;33m,\u001b[0m \u001b[0mindexer\u001b[0m\u001b[1;33m,\u001b[0m \u001b[0mnew_indexer\u001b[0m \u001b[1;33m=\u001b[0m \u001b[0max\u001b[0m\u001b[1;33m.\u001b[0m\u001b[0m_reindex_non_unique\u001b[0m\u001b[1;33m(\u001b[0m\u001b[0mkeyarr\u001b[0m\u001b[1;33m)\u001b[0m\u001b[1;33m\u001b[0m\u001b[1;33m\u001b[0m\u001b[0m\n\u001b[0;32m   1551\u001b[0m \u001b[1;33m\u001b[0m\u001b[0m\n\u001b[1;32m-> 1552\u001b[1;33m         self._validate_read_indexer(\n\u001b[0m\u001b[0;32m   1553\u001b[0m             \u001b[0mkeyarr\u001b[0m\u001b[1;33m,\u001b[0m \u001b[0mindexer\u001b[0m\u001b[1;33m,\u001b[0m \u001b[0mo\u001b[0m\u001b[1;33m.\u001b[0m\u001b[0m_get_axis_number\u001b[0m\u001b[1;33m(\u001b[0m\u001b[0maxis\u001b[0m\u001b[1;33m)\u001b[0m\u001b[1;33m,\u001b[0m \u001b[0mraise_missing\u001b[0m\u001b[1;33m=\u001b[0m\u001b[0mraise_missing\u001b[0m\u001b[1;33m\u001b[0m\u001b[1;33m\u001b[0m\u001b[0m\n\u001b[0;32m   1554\u001b[0m         )\n",
      "\u001b[1;32mc:\\users\\luiz\\anaconda3\\envs\\ds_projeto_final\\lib\\site-packages\\pandas\\core\\indexing.py\u001b[0m in \u001b[0;36m_validate_read_indexer\u001b[1;34m(self, key, indexer, axis, raise_missing)\u001b[0m\n\u001b[0;32m   1638\u001b[0m             \u001b[1;32mif\u001b[0m \u001b[0mmissing\u001b[0m \u001b[1;33m==\u001b[0m \u001b[0mlen\u001b[0m\u001b[1;33m(\u001b[0m\u001b[0mindexer\u001b[0m\u001b[1;33m)\u001b[0m\u001b[1;33m:\u001b[0m\u001b[1;33m\u001b[0m\u001b[1;33m\u001b[0m\u001b[0m\n\u001b[0;32m   1639\u001b[0m                 \u001b[0maxis_name\u001b[0m \u001b[1;33m=\u001b[0m \u001b[0mself\u001b[0m\u001b[1;33m.\u001b[0m\u001b[0mobj\u001b[0m\u001b[1;33m.\u001b[0m\u001b[0m_get_axis_name\u001b[0m\u001b[1;33m(\u001b[0m\u001b[0maxis\u001b[0m\u001b[1;33m)\u001b[0m\u001b[1;33m\u001b[0m\u001b[1;33m\u001b[0m\u001b[0m\n\u001b[1;32m-> 1640\u001b[1;33m                 \u001b[1;32mraise\u001b[0m \u001b[0mKeyError\u001b[0m\u001b[1;33m(\u001b[0m\u001b[1;34mf\"None of [{key}] are in the [{axis_name}]\"\u001b[0m\u001b[1;33m)\u001b[0m\u001b[1;33m\u001b[0m\u001b[1;33m\u001b[0m\u001b[0m\n\u001b[0m\u001b[0;32m   1641\u001b[0m \u001b[1;33m\u001b[0m\u001b[0m\n\u001b[0;32m   1642\u001b[0m             \u001b[1;31m# We (temporarily) allow for some missing keys with .loc, except in\u001b[0m\u001b[1;33m\u001b[0m\u001b[1;33m\u001b[0m\u001b[1;33m\u001b[0m\u001b[0m\n",
      "\u001b[1;31mKeyError\u001b[0m: \"None of [Index([('idade_empresa_anos', 'vl_total_veiculos_pesados_grupo', 'vl_total_veiculos_leves_grupo', 'nu_meses_rescencia', 'empsetorcensitariofaixarendapopulacao', 'qt_socios', 'qt_socios_pf', 'qt_socios_pj', 'idade_media_socios', 'idade_maxima_socios', 'idade_minima_socios', 'qt_socios_st_regular', 'vl_faturamento_estimado_aux', 'vl_faturamento_estimado_grupo_aux')], dtype='object')] are in the [columns]\""
     ]
    }
   ],
   "source": [
    "df_market[[df_market.loc[:,df.dtypes == 'float64'].columns]].astype('float8')"
   ]
  },
  {
   "cell_type": "code",
   "execution_count": null,
   "metadata": {},
   "outputs": [],
   "source": []
  },
  {
   "cell_type": "code",
   "execution_count": null,
   "metadata": {},
   "outputs": [],
   "source": []
  },
  {
   "cell_type": "code",
   "execution_count": null,
   "metadata": {},
   "outputs": [],
   "source": []
  },
  {
   "cell_type": "code",
   "execution_count": null,
   "metadata": {},
   "outputs": [],
   "source": []
  },
  {
   "cell_type": "code",
   "execution_count": 126,
   "metadata": {},
   "outputs": [],
   "source": [
    "df_portfolio = pd.read_csv(file_portfolio1)\n",
    "df_portfolio['fl_client'] = 1\n",
    "df_portfolio = df_portfolio[['id','fl_client']]"
   ]
  },
  {
   "cell_type": "code",
   "execution_count": 152,
   "metadata": {},
   "outputs": [
    {
     "data": {
      "text/html": [
       "<div>\n",
       "<style scoped>\n",
       "    .dataframe tbody tr th:only-of-type {\n",
       "        vertical-align: middle;\n",
       "    }\n",
       "\n",
       "    .dataframe tbody tr th {\n",
       "        vertical-align: top;\n",
       "    }\n",
       "\n",
       "    .dataframe thead th {\n",
       "        text-align: right;\n",
       "    }\n",
       "</style>\n",
       "<table border=\"1\" class=\"dataframe\">\n",
       "  <thead>\n",
       "    <tr style=\"text-align: right;\">\n",
       "      <th></th>\n",
       "      <th>id</th>\n",
       "    </tr>\n",
       "  </thead>\n",
       "  <tbody>\n",
       "    <tr>\n",
       "      <th>0</th>\n",
       "      <td>a27ea291ba7370cbe3e84b7d1fc4086a4560db57d042fe...</td>\n",
       "    </tr>\n",
       "    <tr>\n",
       "      <th>1</th>\n",
       "      <td>19d45d3d439b94a726876d144193988a2d8f131298d433...</td>\n",
       "    </tr>\n",
       "    <tr>\n",
       "      <th>2</th>\n",
       "      <td>3f0376aa09efe3827cbcec46641af8eb8ba125c9cb6c86...</td>\n",
       "    </tr>\n",
       "    <tr>\n",
       "      <th>3</th>\n",
       "      <td>b0a53ae5c4acdf4ffa397487e64f83dc39fcbeee8f6485...</td>\n",
       "    </tr>\n",
       "    <tr>\n",
       "      <th>4</th>\n",
       "      <td>05fe6570fe253849b4de0892bc379f0c0da60863e4fdcc...</td>\n",
       "    </tr>\n",
       "    <tr>\n",
       "      <th>5</th>\n",
       "      <td>c012edb3bebee75f7577d91ea4001102bd7f76dfb0e73b...</td>\n",
       "    </tr>\n",
       "    <tr>\n",
       "      <th>6</th>\n",
       "      <td>1b4d2f68812a2b17e94ffd12569b87050016d3f3add012...</td>\n",
       "    </tr>\n",
       "    <tr>\n",
       "      <th>7</th>\n",
       "      <td>bc58ba2aef77f53039de659dbd9523f93225cecdff7d60...</td>\n",
       "    </tr>\n",
       "    <tr>\n",
       "      <th>8</th>\n",
       "      <td>a6242050d1dbcd82fc4388991618519ac315fcc368d384...</td>\n",
       "    </tr>\n",
       "    <tr>\n",
       "      <th>9</th>\n",
       "      <td>94f6bef4261380bca264183411b406f8825fb6a32484b9...</td>\n",
       "    </tr>\n",
       "  </tbody>\n",
       "</table>\n",
       "</div>"
      ],
      "text/plain": [
       "                                                  id\n",
       "0  a27ea291ba7370cbe3e84b7d1fc4086a4560db57d042fe...\n",
       "1  19d45d3d439b94a726876d144193988a2d8f131298d433...\n",
       "2  3f0376aa09efe3827cbcec46641af8eb8ba125c9cb6c86...\n",
       "3  b0a53ae5c4acdf4ffa397487e64f83dc39fcbeee8f6485...\n",
       "4  05fe6570fe253849b4de0892bc379f0c0da60863e4fdcc...\n",
       "5  c012edb3bebee75f7577d91ea4001102bd7f76dfb0e73b...\n",
       "6  1b4d2f68812a2b17e94ffd12569b87050016d3f3add012...\n",
       "7  bc58ba2aef77f53039de659dbd9523f93225cecdff7d60...\n",
       "8  a6242050d1dbcd82fc4388991618519ac315fcc368d384...\n",
       "9  94f6bef4261380bca264183411b406f8825fb6a32484b9..."
      ]
     },
     "execution_count": 152,
     "metadata": {},
     "output_type": "execute_result"
    }
   ],
   "source": []
  },
  {
   "cell_type": "code",
   "execution_count": 154,
   "metadata": {},
   "outputs": [
    {
     "data": {
      "text/plain": [
       "462298"
      ]
     },
     "execution_count": 154,
     "metadata": {},
     "output_type": "execute_result"
    }
   ],
   "source": []
  },
  {
   "cell_type": "code",
   "execution_count": 128,
   "metadata": {},
   "outputs": [],
   "source": [
    "df = pd.merge(df_market, df_portfolio, how='left', on='id')"
   ]
  },
  {
   "cell_type": "code",
   "execution_count": 130,
   "metadata": {},
   "outputs": [],
   "source": [
    "df['fl_client'].fillna(0, inplace=True)"
   ]
  },
  {
   "cell_type": "code",
   "execution_count": null,
   "metadata": {},
   "outputs": [],
   "source": []
  },
  {
   "cell_type": "code",
   "execution_count": 132,
   "metadata": {},
   "outputs": [],
   "source": [
    "X, y = df.drop('fl_client', axis=1), df['fl_client']"
   ]
  }
 ],
 "metadata": {
  "kernelspec": {
   "display_name": "Python 3",
   "language": "python",
   "name": "python3"
  },
  "language_info": {
   "codemirror_mode": {
    "name": "ipython",
    "version": 3
   },
   "file_extension": ".py",
   "mimetype": "text/x-python",
   "name": "python",
   "nbconvert_exporter": "python",
   "pygments_lexer": "ipython3",
   "version": "3.8.2"
  }
 },
 "nbformat": 4,
 "nbformat_minor": 4
}
